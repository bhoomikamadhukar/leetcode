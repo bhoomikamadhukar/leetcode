{
  "nbformat": 4,
  "nbformat_minor": 0,
  "metadata": {
    "colab": {
      "name": "leetcode-array.ipynb",
      "provenance": []
    },
    "kernelspec": {
      "name": "python3",
      "display_name": "Python 3"
    },
    "language_info": {
      "name": "python"
    }
  },
  "cells": [
    {
      "cell_type": "code",
      "metadata": {
        "id": "hH5x14pH6xR1"
      },
      "source": [
        "#running sum of 1D array\n",
        "def runningSum(arr):\n",
        "  for i in range(1,len(arr)):\n",
        "    arr[i]=arr[i]+arr[i-1]\n",
        "  return arr "
      ],
      "execution_count": null,
      "outputs": []
    },
    {
      "cell_type": "code",
      "metadata": {
        "colab": {
          "base_uri": "https://localhost:8080/"
        },
        "id": "K34nhcKJ7VkK",
        "outputId": "82a9fba6-9f62-400a-bc0d-7384cb3a8e07"
      },
      "source": [
        "runningSum([1,1,1,1])"
      ],
      "execution_count": null,
      "outputs": [
        {
          "output_type": "execute_result",
          "data": {
            "text/plain": [
              "[1, 2, 3, 4]"
            ]
          },
          "metadata": {
            "tags": []
          },
          "execution_count": 26
        }
      ]
    },
    {
      "cell_type": "code",
      "metadata": {
        "id": "kwgNL-Q37ZPt"
      },
      "source": [
        "#remove duplicates from sorted array \n",
        "def duplicates(nums):\n",
        "  j=0\n",
        "  for i in range(len(nums)):\n",
        "    if nums[j]!=nums[i]:\n",
        "      j=j+1\n",
        "      nums[j]=nums[i]\n",
        "  return j+1    \n",
        "  "
      ],
      "execution_count": null,
      "outputs": []
    },
    {
      "cell_type": "code",
      "metadata": {
        "colab": {
          "base_uri": "https://localhost:8080/"
        },
        "id": "Wcr47ONh-vTw",
        "outputId": "b8457a05-8074-4ecd-f7f0-1515aff99675"
      },
      "source": [
        "duplicates([1,1,2])"
      ],
      "execution_count": null,
      "outputs": [
        {
          "output_type": "execute_result",
          "data": {
            "text/plain": [
              "2"
            ]
          },
          "metadata": {
            "tags": []
          },
          "execution_count": 32
        }
      ]
    },
    {
      "cell_type": "code",
      "metadata": {
        "id": "dyWs6RWL-xDo"
      },
      "source": [
        "#remove element \n",
        "def remove(nums,val):\n",
        "  count =0\n",
        "  for i in range(len(nums)):\n",
        "    if nums[i]!=val:\n",
        "      nums[count]=nums[i]\n",
        "      count+=1\n",
        "  return count"
      ],
      "execution_count": null,
      "outputs": []
    },
    {
      "cell_type": "code",
      "metadata": {
        "colab": {
          "base_uri": "https://localhost:8080/"
        },
        "id": "5m6j7AsWBPXB",
        "outputId": "540dbe12-aa12-440b-93a7-870e7dc24615"
      },
      "source": [
        "remove([3,2,2,3],3)"
      ],
      "execution_count": null,
      "outputs": [
        {
          "output_type": "execute_result",
          "data": {
            "text/plain": [
              "2"
            ]
          },
          "metadata": {
            "tags": []
          },
          "execution_count": 39
        }
      ]
    },
    {
      "cell_type": "code",
      "metadata": {
        "id": "l77Z30RKBa0-"
      },
      "source": [
        "#search insert position\n",
        "def insert(nums,target):\n",
        "  if target in nums:\n",
        "    return nums.index(target)\n",
        "  else:\n",
        "    for i in range(len(nums)):\n",
        "      if target <= nums[i]:\n",
        "        return i\n",
        "  return len(nums)"
      ],
      "execution_count": null,
      "outputs": []
    },
    {
      "cell_type": "code",
      "metadata": {
        "colab": {
          "base_uri": "https://localhost:8080/"
        },
        "id": "KtcSHvIHEISi",
        "outputId": "6d2ecf57-d234-4783-ab72-ce2f9671c191"
      },
      "source": [
        "insert([1,2,3,4,5],5)"
      ],
      "execution_count": null,
      "outputs": [
        {
          "output_type": "execute_result",
          "data": {
            "text/plain": [
              "4"
            ]
          },
          "metadata": {
            "tags": []
          },
          "execution_count": 43
        }
      ]
    },
    {
      "cell_type": "code",
      "metadata": {
        "id": "sLmmgz2TEQ20"
      },
      "source": [
        "#XOR gate\n",
        "def xor(nums,start):\n",
        "  xor = 0\n",
        "  for i in range(nums):\n",
        "    xor^= start+2*i\n",
        "  return xor"
      ],
      "execution_count": 2,
      "outputs": []
    },
    {
      "cell_type": "code",
      "metadata": {
        "colab": {
          "base_uri": "https://localhost:8080/"
        },
        "id": "2yD1KznAQQnm",
        "outputId": "0ebcd822-5730-4a7f-a936-0709996d920a"
      },
      "source": [
        "xor(5,0)"
      ],
      "execution_count": 3,
      "outputs": [
        {
          "output_type": "execute_result",
          "data": {
            "text/plain": [
              "8"
            ]
          },
          "metadata": {
            "tags": []
          },
          "execution_count": 3
        }
      ]
    },
    {
      "cell_type": "code",
      "metadata": {
        "id": "LND8SbCpQWV_"
      },
      "source": [
        "#average salary excluding min and max\n",
        "def salary(sal):\n",
        "  avg=0\n",
        "  sal.remove(max(sal))\n",
        "  sal.remove(min(sal))\n",
        "  avg= sum(sal)/len(sal)\n",
        "  return avg\n",
        "  "
      ],
      "execution_count": 83,
      "outputs": []
    },
    {
      "cell_type": "code",
      "metadata": {
        "colab": {
          "base_uri": "https://localhost:8080/"
        },
        "id": "e1bU8fpPRcg_",
        "outputId": "bad70718-2ced-4dcb-ae87-fb44d61890da"
      },
      "source": [
        "salary([8000,9000,1000,2000,3000,4000])"
      ],
      "execution_count": 84,
      "outputs": [
        {
          "output_type": "execute_result",
          "data": {
            "text/plain": [
              "4250.0"
            ]
          },
          "metadata": {
            "tags": []
          },
          "execution_count": 84
        }
      ]
    },
    {
      "cell_type": "code",
      "metadata": {
        "id": "HPUlL38gRlGf"
      },
      "source": [
        "#arithmetic progression\n",
        "def ap(nums):\n",
        "  nums.sort()\n",
        "  d = nums[1]-nums[0]\n",
        "  for i in range(2,len(nums)):\n",
        "    if d != nums[i]-nums[i-1]:\n",
        "      return False\n",
        "  return True"
      ],
      "execution_count": 104,
      "outputs": []
    },
    {
      "cell_type": "code",
      "metadata": {
        "colab": {
          "base_uri": "https://localhost:8080/"
        },
        "id": "2OzzXA_AU7zq",
        "outputId": "6fed6957-b221-4375-d0e5-1c9eea0cd7f7"
      },
      "source": [
        "ap([1,2,3,5])"
      ],
      "execution_count": 106,
      "outputs": [
        {
          "output_type": "execute_result",
          "data": {
            "text/plain": [
              "False"
            ]
          },
          "metadata": {
            "tags": []
          },
          "execution_count": 106
        }
      ]
    },
    {
      "cell_type": "code",
      "metadata": {
        "id": "KsQfqPItU_U3"
      },
      "source": [
        "#nums of good pairs\n",
        "def goodPairs(nums):\n",
        "  count = 0\n",
        "  for i in range(len(nums)):\n",
        "    for j in range(len(nums)):\n",
        "      if(nums[i]==nums[j]) and i<j:\n",
        "        count+=1\n",
        "  return count "
      ],
      "execution_count": 108,
      "outputs": []
    },
    {
      "cell_type": "code",
      "metadata": {
        "colab": {
          "base_uri": "https://localhost:8080/"
        },
        "id": "od99XMq8ad12",
        "outputId": "6647129f-bcd9-4efa-a8f7-c3e6ea4afe2e"
      },
      "source": [
        "goodPairs([1,2,3,1,1,3])"
      ],
      "execution_count": 109,
      "outputs": [
        {
          "output_type": "execute_result",
          "data": {
            "text/plain": [
              "4"
            ]
          },
          "metadata": {
            "tags": []
          },
          "execution_count": 109
        }
      ]
    },
    {
      "cell_type": "code",
      "metadata": {
        "id": "IYS1Ax2lahpa"
      },
      "source": [
        "#count good triplets\n",
        "def goodTriplets(nums,a,b,c):\n",
        "  count =0 \n",
        "  for i in range(len(nums)):\n",
        "    for j in range(i+1,len(nums)):\n",
        "      for k in range(j+1,len(nums)):\n",
        "        if(abs(nums[i]-nums[j])<=a) and (abs(nums[j]-nums[k])<=b) and (abs(nums[i]-nums[k])<=c):\n",
        "          count+=1\n",
        "  return count"
      ],
      "execution_count": 124,
      "outputs": []
    },
    {
      "cell_type": "code",
      "metadata": {
        "colab": {
          "base_uri": "https://localhost:8080/"
        },
        "id": "6s_8iA7dbKfK",
        "outputId": "400444eb-459e-43fc-a306-5ef80abe5d53"
      },
      "source": [
        "goodTriplets([3,0,1,1,9,7],7,2,3)"
      ],
      "execution_count": 125,
      "outputs": [
        {
          "output_type": "execute_result",
          "data": {
            "text/plain": [
              "4"
            ]
          },
          "metadata": {
            "tags": []
          },
          "execution_count": 125
        }
      ]
    },
    {
      "cell_type": "code",
      "metadata": {
        "id": "N7Lm2r-rbPTI"
      },
      "source": [
        "#kth positive integer\n",
        "#binary search\n",
        "def Kinteger(nums,k):\n",
        "  beg =0\n",
        "  end = len(nums)\n",
        "  \n",
        "  while beg < end:\n",
        "    mid = beg+end//2\n",
        "    if nums[mid] - mid - 1<k:\n",
        "      beg = mid+1\n",
        "    else:\n",
        "      end =mid\n",
        "  return end+k\n",
        "\n"
      ],
      "execution_count": 126,
      "outputs": []
    },
    {
      "cell_type": "code",
      "metadata": {
        "id": "9yNon2QejZ09"
      },
      "source": [
        ""
      ],
      "execution_count": null,
      "outputs": []
    }
  ]
}